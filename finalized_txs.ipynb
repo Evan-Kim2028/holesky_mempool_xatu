{
 "cells": [
  {
   "cell_type": "code",
   "execution_count": 1,
   "metadata": {},
   "outputs": [
    {
     "data": {
      "text/plain": [
       "polars.config.Config"
      ]
     },
     "execution_count": 1,
     "metadata": {},
     "output_type": "execute_result"
    }
   ],
   "source": [
    "import polars as pl\n",
    "from datetime import datetime, timedelta\n",
    "\n",
    "pl.Config.set_fmt_str_lengths(200)\n",
    "pl.Config.set_fmt_float(\"full\")"
   ]
  },
  {
   "cell_type": "markdown",
   "metadata": {},
   "source": [
    "Objective:\n",
    "\n",
    "Determine what Holesky block composition is primarily made of."
   ]
  },
  {
   "cell_type": "code",
   "execution_count": 2,
   "metadata": {},
   "outputs": [],
   "source": [
    "# start and end date range\n",
    "start_date = datetime(2024, 6, 15)\n",
    "end_date = datetime(2024, 6, 19)\n",
    "\n",
    "\n",
    "# list comprehension to generate endpoints\n",
    "beacon_urls = [\n",
    "    f\"https://data.ethpandaops.io/xatu/holesky/databases/default/canonical_beacon_block_execution_transaction/{\n",
    "        date.year}/{date.month}/{date.day}.parquet\"\n",
    "    for date in (\n",
    "        start_date + timedelta(days=n) for n in range((end_date - start_date).days + 1)\n",
    "    )\n",
    "]"
   ]
  },
  {
   "cell_type": "code",
   "execution_count": 3,
   "metadata": {},
   "outputs": [],
   "source": [
    "beacon_df = (pl.concat(\n",
    "    [pl.scan_parquet(file) for file in beacon_urls]\n",
    ")\n",
    ")"
   ]
  },
  {
   "cell_type": "code",
   "execution_count": 4,
   "metadata": {},
   "outputs": [],
   "source": [
    "beacon_txs_df = beacon_df.select(\n",
    "    'slot',\n",
    "    'slot_start_date_time',\n",
    "    'hash',\n",
    "    'from',\n",
    "    'to',\n",
    "    'type',\n",
    ").collect()"
   ]
  },
  {
   "cell_type": "code",
   "execution_count": 7,
   "metadata": {},
   "outputs": [],
   "source": [
    "beacon_table = beacon_txs_df.group_by('to').agg(\n",
    "    pl.len().alias('tx_count'),\n",
    "    pl.col('type').mean().round(0).alias('tx_type')\n",
    ")"
   ]
  },
  {
   "cell_type": "code",
   "execution_count": 8,
   "metadata": {},
   "outputs": [
    {
     "data": {
      "text/html": [
       "<div><style>\n",
       ".dataframe > thead > tr,\n",
       ".dataframe > tbody > tr {\n",
       "  text-align: right;\n",
       "  white-space: pre-wrap;\n",
       "}\n",
       "</style>\n",
       "<small>shape: (62_354, 3)</small><table border=\"1\" class=\"dataframe\"><thead><tr><th>to</th><th>tx_count</th><th>tx_type</th></tr><tr><td>binary</td><td>u32</td><td>f64</td></tr></thead><tbody><tr><td>b&quot;0x023A6b4C3f477E808021696a06C902E0c75024E8&quot;</td><td>1</td><td>2</td></tr><tr><td>b&quot;0xbC6F18B7D8BabB9635ae9e78f45bb9a0cdd64437&quot;</td><td>2</td><td>2</td></tr><tr><td>b&quot;0xEbC2DDff1767557Ec22434FB5aA8c1AA1501EA2a&quot;</td><td>1</td><td>2</td></tr><tr><td>b&quot;0x3aEcde33258bB507E747e7bdFdbF2Fcb42E72fca&quot;</td><td>1</td><td>0</td></tr><tr><td>b&quot;0x1d43181E0e6343297A6C9c5C1CAeEC7c3Dc4ba34&quot;</td><td>1</td><td>2</td></tr><tr><td>&hellip;</td><td>&hellip;</td><td>&hellip;</td></tr><tr><td>b&quot;0x1dEd43cb119FBB9E5D6e5fdF9f9F32c946D5eb0E&quot;</td><td>1</td><td>2</td></tr><tr><td>b&quot;0xb3f39e171E3EC65702fC71bdC385aaa4817FAE27&quot;</td><td>1</td><td>2</td></tr><tr><td>b&quot;0xcc4761675Da0ec4BEe4a4451a15CdcBE8B0ae98d&quot;</td><td>1</td><td>2</td></tr><tr><td>b&quot;0x6742f55d84Cd4Eb4fd95e6874c9164a67fAf80eA&quot;</td><td>1</td><td>0</td></tr><tr><td>b&quot;0x08e7279d7923FC95775f5c93e108277114645436&quot;</td><td>1</td><td>2</td></tr></tbody></table></div>"
      ],
      "text/plain": [
       "shape: (62_354, 3)\n",
       "┌───────────────────────────────────────────────┬──────────┬─────────┐\n",
       "│ to                                            ┆ tx_count ┆ tx_type │\n",
       "│ ---                                           ┆ ---      ┆ ---     │\n",
       "│ binary                                        ┆ u32      ┆ f64     │\n",
       "╞═══════════════════════════════════════════════╪══════════╪═════════╡\n",
       "│ b\"0x023A6b4C3f477E808021696a06C902E0c75024E8\" ┆ 1        ┆ 2       │\n",
       "│ b\"0xbC6F18B7D8BabB9635ae9e78f45bb9a0cdd64437\" ┆ 2        ┆ 2       │\n",
       "│ b\"0xEbC2DDff1767557Ec22434FB5aA8c1AA1501EA2a\" ┆ 1        ┆ 2       │\n",
       "│ b\"0x3aEcde33258bB507E747e7bdFdbF2Fcb42E72fca\" ┆ 1        ┆ 0       │\n",
       "│ b\"0x1d43181E0e6343297A6C9c5C1CAeEC7c3Dc4ba34\" ┆ 1        ┆ 2       │\n",
       "│ …                                             ┆ …        ┆ …       │\n",
       "│ b\"0x1dEd43cb119FBB9E5D6e5fdF9f9F32c946D5eb0E\" ┆ 1        ┆ 2       │\n",
       "│ b\"0xb3f39e171E3EC65702fC71bdC385aaa4817FAE27\" ┆ 1        ┆ 2       │\n",
       "│ b\"0xcc4761675Da0ec4BEe4a4451a15CdcBE8B0ae98d\" ┆ 1        ┆ 2       │\n",
       "│ b\"0x6742f55d84Cd4Eb4fd95e6874c9164a67fAf80eA\" ┆ 1        ┆ 0       │\n",
       "│ b\"0x08e7279d7923FC95775f5c93e108277114645436\" ┆ 1        ┆ 2       │\n",
       "└───────────────────────────────────────────────┴──────────┴─────────┘"
      ]
     },
     "execution_count": 8,
     "metadata": {},
     "output_type": "execute_result"
    }
   ],
   "source": [
    "beacon_table"
   ]
  },
  {
   "cell_type": "code",
   "execution_count": 10,
   "metadata": {},
   "outputs": [
    {
     "data": {
      "text/html": [
       "<div><style>\n",
       ".dataframe > thead > tr,\n",
       ".dataframe > tbody > tr {\n",
       "  text-align: right;\n",
       "  white-space: pre-wrap;\n",
       "}\n",
       "</style>\n",
       "<small>shape: (10, 3)</small><table border=\"1\" class=\"dataframe\"><thead><tr><th>to</th><th>tx_count</th><th>tx_type</th></tr><tr><td>binary</td><td>u32</td><td>f64</td></tr></thead><tbody><tr><td>b&quot;0x3f5dFD1522a84394390382a9801616BD530A9655&quot;</td><td>379718</td><td>2</td></tr><tr><td>b&quot;0x7F82C801D1778fC42Df04c22f532C5B18bB3ba0F&quot;</td><td>181043</td><td>1</td></tr><tr><td>b&quot;0xEA593b730d745FB5fE01B6d20e6603915252c6BF&quot;</td><td>134233</td><td>2</td></tr><tr><td>b&quot;0x0888e9E350ae4ac703e1e78341B180A007C15105&quot;</td><td>133231</td><td>1</td></tr><tr><td>b&quot;0xFf00000000000000000000000000000000042069&quot;</td><td>104358</td><td>2</td></tr><tr><td>b&quot;0x79C9109b764609df928d16fC4a91e9081F7e87DB&quot;</td><td>81015</td><td>2</td></tr><tr><td>b&quot;0xCF7CDa60aC783a2336d665082c7eFf1aA0E88055&quot;</td><td>25560</td><td>2</td></tr><tr><td>b&quot;0x3E4511645086a6fabECbAf1c3eE152C067f0AedA&quot;</td><td>25213</td><td>1</td></tr><tr><td>b&quot;0xc144Bf0FF0Ff560784a881024ccA077ebaa5b163&quot;</td><td>24114</td><td>1</td></tr><tr><td>b&quot;0x58F280BeBE9B34c9939C3C39e0890C81f163B623&quot;</td><td>21976</td><td>2</td></tr></tbody></table></div>"
      ],
      "text/plain": [
       "shape: (10, 3)\n",
       "┌───────────────────────────────────────────────┬──────────┬─────────┐\n",
       "│ to                                            ┆ tx_count ┆ tx_type │\n",
       "│ ---                                           ┆ ---      ┆ ---     │\n",
       "│ binary                                        ┆ u32      ┆ f64     │\n",
       "╞═══════════════════════════════════════════════╪══════════╪═════════╡\n",
       "│ b\"0x3f5dFD1522a84394390382a9801616BD530A9655\" ┆ 379718   ┆ 2       │\n",
       "│ b\"0x7F82C801D1778fC42Df04c22f532C5B18bB3ba0F\" ┆ 181043   ┆ 1       │\n",
       "│ b\"0xEA593b730d745FB5fE01B6d20e6603915252c6BF\" ┆ 134233   ┆ 2       │\n",
       "│ b\"0x0888e9E350ae4ac703e1e78341B180A007C15105\" ┆ 133231   ┆ 1       │\n",
       "│ b\"0xFf00000000000000000000000000000000042069\" ┆ 104358   ┆ 2       │\n",
       "│ b\"0x79C9109b764609df928d16fC4a91e9081F7e87DB\" ┆ 81015    ┆ 2       │\n",
       "│ b\"0xCF7CDa60aC783a2336d665082c7eFf1aA0E88055\" ┆ 25560    ┆ 2       │\n",
       "│ b\"0x3E4511645086a6fabECbAf1c3eE152C067f0AedA\" ┆ 25213    ┆ 1       │\n",
       "│ b\"0xc144Bf0FF0Ff560784a881024ccA077ebaa5b163\" ┆ 24114    ┆ 1       │\n",
       "│ b\"0x58F280BeBE9B34c9939C3C39e0890C81f163B623\" ┆ 21976    ┆ 2       │\n",
       "└───────────────────────────────────────────────┴──────────┴─────────┘"
      ]
     },
     "execution_count": 10,
     "metadata": {},
     "output_type": "execute_result"
    }
   ],
   "source": [
    "beacon_table.sort(by='tx_count', descending=True).head(10)"
   ]
  },
  {
   "cell_type": "code",
   "execution_count": 13,
   "metadata": {},
   "outputs": [
    {
     "data": {
      "text/html": [
       "<div><style>\n",
       ".dataframe > thead > tr,\n",
       ".dataframe > tbody > tr {\n",
       "  text-align: right;\n",
       "  white-space: pre-wrap;\n",
       "}\n",
       "</style>\n",
       "<small>shape: (8, 3)</small><table border=\"1\" class=\"dataframe\"><thead><tr><th>to</th><th>tx_count</th><th>tx_type</th></tr><tr><td>binary</td><td>u32</td><td>f64</td></tr></thead><tbody><tr><td>b&quot;0xd8c5c541D56F59d65CF775de928CCf4a47d4985C&quot;</td><td>14619</td><td>3</td></tr><tr><td>b&quot;0xD3f681bD6B49887A48cC9C9953720903967E9DC0&quot;</td><td>7520</td><td>3</td></tr><tr><td>b&quot;0xFf00000000000000000000000000000900294412&quot;</td><td>546</td><td>3</td></tr><tr><td>b&quot;0xff00000000000000000000000000000000000112&quot;</td><td>413</td><td>3</td></tr><tr><td>b&quot;0x0000000000000000000000000000000000000000&quot;</td><td>189</td><td>3</td></tr><tr><td>b&quot;0xFf00000000000000000000000000000017000920&quot;</td><td>71</td><td>3</td></tr><tr><td>b&quot;0xBAc1000000000000000000000000000000000000&quot;</td><td>37</td><td>3</td></tr><tr><td>b&quot;0x76c5E742B9144FB274Ed61aF022C88138fa3F852&quot;</td><td>1</td><td>3</td></tr></tbody></table></div>"
      ],
      "text/plain": [
       "shape: (8, 3)\n",
       "┌───────────────────────────────────────────────┬──────────┬─────────┐\n",
       "│ to                                            ┆ tx_count ┆ tx_type │\n",
       "│ ---                                           ┆ ---      ┆ ---     │\n",
       "│ binary                                        ┆ u32      ┆ f64     │\n",
       "╞═══════════════════════════════════════════════╪══════════╪═════════╡\n",
       "│ b\"0xd8c5c541D56F59d65CF775de928CCf4a47d4985C\" ┆ 14619    ┆ 3       │\n",
       "│ b\"0xD3f681bD6B49887A48cC9C9953720903967E9DC0\" ┆ 7520     ┆ 3       │\n",
       "│ b\"0xFf00000000000000000000000000000900294412\" ┆ 546      ┆ 3       │\n",
       "│ b\"0xff00000000000000000000000000000000000112\" ┆ 413      ┆ 3       │\n",
       "│ b\"0x0000000000000000000000000000000000000000\" ┆ 189      ┆ 3       │\n",
       "│ b\"0xFf00000000000000000000000000000017000920\" ┆ 71       ┆ 3       │\n",
       "│ b\"0xBAc1000000000000000000000000000000000000\" ┆ 37       ┆ 3       │\n",
       "│ b\"0x76c5E742B9144FB274Ed61aF022C88138fa3F852\" ┆ 1        ┆ 3       │\n",
       "└───────────────────────────────────────────────┴──────────┴─────────┘"
      ]
     },
     "execution_count": 13,
     "metadata": {},
     "output_type": "execute_result"
    }
   ],
   "source": [
    "# show recently active blobs. Seems like only the top 2 are still active today\n",
    "beacon_table.filter(pl.col('tx_type') == 3).sort(\n",
    "    by='tx_count', descending=True)"
   ]
  },
  {
   "cell_type": "code",
   "execution_count": null,
   "metadata": {},
   "outputs": [],
   "source": []
  }
 ],
 "metadata": {
  "kernelspec": {
   "display_name": ".venv",
   "language": "python",
   "name": "python3"
  },
  "language_info": {
   "codemirror_mode": {
    "name": "ipython",
    "version": 3
   },
   "file_extension": ".py",
   "mimetype": "text/x-python",
   "name": "python",
   "nbconvert_exporter": "python",
   "pygments_lexer": "ipython3",
   "version": "3.12.2"
  }
 },
 "nbformat": 4,
 "nbformat_minor": 2
}

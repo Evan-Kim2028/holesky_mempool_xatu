{
 "cells": [
  {
   "cell_type": "code",
   "execution_count": 31,
   "metadata": {},
   "outputs": [
    {
     "data": {
      "text/plain": [
       "polars.config.Config"
      ]
     },
     "execution_count": 31,
     "metadata": {},
     "output_type": "execute_result"
    }
   ],
   "source": [
    "import polars as pl\n",
    "from datetime import datetime, timedelta\n",
    "\n",
    "pl.Config.set_fmt_str_lengths(200)\n",
    "pl.Config.set_fmt_float(\"full\")"
   ]
  },
  {
   "cell_type": "markdown",
   "metadata": {},
   "source": [
    "Objective:\n",
    "\n",
    "The objective is to identify potentially good preconfirmation examples and how long different types of transactions linger in the mempool on Holesky"
   ]
  },
  {
   "cell_type": "code",
   "execution_count": 2,
   "metadata": {},
   "outputs": [],
   "source": [
    "# start and end date range\n",
    "start_date = datetime(2024, 5, 30)\n",
    "end_date = datetime(2024, 6, 1)\n",
    "\n",
    "\n",
    "# list comprehension to generate endpoints\n",
    "mempool_urls = [\n",
    "    f\"https://data.ethpandaops.io/xatu/holesky/databases/default/mempool_transaction/{\n",
    "        date.year}/{date.month}/{date.day}.parquet\"\n",
    "    for date in (\n",
    "        start_date + timedelta(days=n) for n in range((end_date - start_date).days + 1)\n",
    "    )\n",
    "]\n",
    "\n",
    "# list comprehension to generate endpoints\n",
    "beacon_urls = [\n",
    "    f\"https://data.ethpandaops.io/xatu/holesky/databases/default/canonical_beacon_block_execution_transaction/{\n",
    "        date.year}/{date.month}/{date.day}.parquet\"\n",
    "    for date in (\n",
    "        start_date + timedelta(days=n) for n in range((end_date - start_date).days + 1)\n",
    "    )\n",
    "]"
   ]
  },
  {
   "cell_type": "code",
   "execution_count": 7,
   "metadata": {},
   "outputs": [],
   "source": [
    "# Create a list of Lazy DataFrames for each Parquet file\n",
    "mempool_df = pl.concat(\n",
    "    [pl.scan_parquet(file) for file in mempool_urls]\n",
    ").group_by(\"hash\").agg(\n",
    "    [\n",
    "        pl.col('event_date_time').min().alias('eaerliest_time_in_mempool')\n",
    "    ]\n",
    ")"
   ]
  },
  {
   "cell_type": "code",
   "execution_count": 8,
   "metadata": {},
   "outputs": [],
   "source": [
    "beacon_df = pl.concat(\n",
    "    [pl.scan_parquet(file) for file in beacon_urls]\n",
    ")"
   ]
  },
  {
   "cell_type": "code",
   "execution_count": 11,
   "metadata": {},
   "outputs": [],
   "source": [
    "txs_df = beacon_df.join(\n",
    "    mempool_df, on=\"hash\", how=\"inner\", coalesce=True\n",
    ").collect()"
   ]
  },
  {
   "cell_type": "code",
   "execution_count": 13,
   "metadata": {},
   "outputs": [
    {
     "data": {
      "text/plain": [
       "(1888395, 50)"
      ]
     },
     "execution_count": 13,
     "metadata": {},
     "output_type": "execute_result"
    }
   ],
   "source": [
    "txs_df.shape"
   ]
  },
  {
   "cell_type": "code",
   "execution_count": 28,
   "metadata": {},
   "outputs": [],
   "source": [
    "txs_cleaned_df = (\n",
    "    txs_df\n",
    "    .select(\n",
    "        'slot',\n",
    "        'slot_start_date_time',\n",
    "        'eaerliest_time_in_mempool',\n",
    "        'hash',\n",
    "        'from',\n",
    "        'to',\n",
    "        'type',\n",
    "    )\n",
    "    .with_columns(\n",
    "        pl.from_epoch('slot_start_date_time', time_unit='s').dt.timestamp(\"ms\")\n",
    "    )\n",
    "    .with_columns(\n",
    "        ((pl.col('slot_start_date_time') - pl.col('eaerliest_time_in_mempool')\n",
    "          ) / 1000).alias('seconds_in_mempool')\n",
    "    )\n",
    "    .select('slot', 'seconds_in_mempool', 'hash', 'from', 'to', 'type')\n",
    ")"
   ]
  },
  {
   "cell_type": "code",
   "execution_count": 44,
   "metadata": {},
   "outputs": [
    {
     "data": {
      "text/html": [
       "<div><style>\n",
       ".dataframe > thead > tr,\n",
       ".dataframe > tbody > tr {\n",
       "  text-align: right;\n",
       "  white-space: pre-wrap;\n",
       "}\n",
       "</style>\n",
       "<small>shape: (1_888_395, 6)</small><table border=\"1\" class=\"dataframe\"><thead><tr><th>slot</th><th>seconds_in_mempool</th><th>hash</th><th>from</th><th>to</th><th>type</th></tr><tr><td>u32</td><td>f64</td><td>binary</td><td>binary</td><td>binary</td><td>u8</td></tr></thead><tbody><tr><td>1775823</td><td>7.479</td><td>b&quot;0x000dac1b4b5862878a79b4d417235a3bedc166c5c3d7f9e3a8700d79b9c09dc1&quot;</td><td>b&quot;0x614d45cB18842C708899820bc6B284Fcd93D445A&quot;</td><td>b&quot;0xbb3fB2aD154E6fCa6DCD35082843d3a5819431c1&quot;</td><td>0</td></tr><tr><td>1765186</td><td>4.671</td><td>b&quot;0xa9ddc7176add5c389f92a1ce2e351905b58072fde1c7af000bf6332a4701b690&quot;</td><td>b&quot;0xF7F72A1F5cdF5d2B6670aF5b60e0e0Ad22ef7Bce&quot;</td><td>b&quot;0xEA593b730d745FB5fE01B6d20e6603915252c6BF&quot;</td><td>0</td></tr><tr><td>1766648</td><td>21.369</td><td>b&quot;0xdb7f213db333156678f7ee87d11ff0ccb6b57210a204f2676ac071fbf79107c6&quot;</td><td>b&quot;0x6CbBE2fcb7b2054a754e212f98Bd11e64Ee5CE4c&quot;</td><td>b&quot;0xEA593b730d745FB5fE01B6d20e6603915252c6BF&quot;</td><td>0</td></tr><tr><td>1766081</td><td>2.418</td><td>b&quot;0x792e01067e8e44d0f09e7edbfd4a401672b0a3439a55913096c5216772a89d74&quot;</td><td>b&quot;0x625BCC1142E97796173104A6e817Ee46C593b3C5&quot;</td><td>b&quot;0x1c8A29F7517c7ceA04B98b80723D871a99DD3a2c&quot;</td><td>0</td></tr><tr><td>1765123</td><td>23.425</td><td>b&quot;0x50bd3c863aeac0eb4f7ed6d97e98338b83fb9f3f18382005bea98ed863d00713&quot;</td><td>b&quot;0x898e4430A57Ec5b424dFfe06D8Aa0442519e1F59&quot;</td><td>b&quot;0xFE1355874C2537480fCCc5AB62D36B1bE5e7230b&quot;</td><td>0</td></tr><tr><td>&hellip;</td><td>&hellip;</td><td>&hellip;</td><td>&hellip;</td><td>&hellip;</td><td>&hellip;</td></tr><tr><td>1762930</td><td>3109.732</td><td>b&quot;0xbc67c8529d41d1088d6281a945638954632fdc241c252182e28006fec9a20fe6&quot;</td><td>b&quot;0xa66008075589d4253c0fe26eD520e9ff88605f88&quot;</td><td>b&quot;0x79C9109b764609df928d16fC4a91e9081F7e87DB&quot;</td><td>3</td></tr><tr><td>1763940</td><td>15234.199</td><td>b&quot;0x06611832eedc509fa0a6ff555d37f4f10639419325b84e03c9f6d012d3369c0b&quot;</td><td>b&quot;0xED3D68aCf5366785859A96e66a2778A02d14f08e&quot;</td><td>b&quot;0x79C9109b764609df928d16fC4a91e9081F7e87DB&quot;</td><td>3</td></tr><tr><td>1761503</td><td>-0.49</td><td>b&quot;0xb4b9bd4195bd08a6906caf86a17b5195e38c5009ca65ea3be82a50917f571849&quot;</td><td>b&quot;0x8511a42aC38975b7c24b1Fa70bB2f344cd55DFB2&quot;</td><td>b&quot;0x79C9109b764609df928d16fC4a91e9081F7e87DB&quot;</td><td>3</td></tr><tr><td>1763536</td><td>20.476</td><td>b&quot;0x9b2e53fd7d7753f474ce4734e95f44c5a307e089001bbb4763d51e4d6c42e947&quot;</td><td>b&quot;0x48446b07A04307F320fa34790116d73aD4A51810&quot;</td><td>b&quot;0xd8c5c541D56F59d65CF775de928CCf4a47d4985C&quot;</td><td>3</td></tr><tr><td>1772716</td><td>10.591000000000001</td><td>b&quot;0x54ca2b367d243b67d899ed383cd19c4449ad80fff5d0fd76d1d3ccc69bceecab&quot;</td><td>b&quot;0xD539B37De66BA80932127d5930F729f611C49552&quot;</td><td>b&quot;0x79C9109b764609df928d16fC4a91e9081F7e87DB&quot;</td><td>3</td></tr></tbody></table></div>"
      ],
      "text/plain": [
       "shape: (1_888_395, 6)\n",
       "┌─────────┬────────────────────┬────────────────────┬───────────────────┬───────────────────┬──────┐\n",
       "│ slot    ┆ seconds_in_mempool ┆ hash               ┆ from              ┆ to                ┆ type │\n",
       "│ ---     ┆ ---                ┆ ---                ┆ ---               ┆ ---               ┆ ---  │\n",
       "│ u32     ┆ f64                ┆ binary             ┆ binary            ┆ binary            ┆ u8   │\n",
       "╞═════════╪════════════════════╪════════════════════╪═══════════════════╪═══════════════════╪══════╡\n",
       "│ 1775823 ┆ 7.479              ┆ b\"0x000dac1b4b5862 ┆ b\"0x614d45cB18842 ┆ b\"0xbb3fB2aD154E6 ┆ 0    │\n",
       "│         ┆                    ┆ 878a79b4d417235a3b ┆ C708899820bc6B284 ┆ fCa6DCD35082843d3 ┆      │\n",
       "│         ┆                    ┆ edc166c5c3d7f9e3a8 ┆ Fcd93D445A\"       ┆ a5819431c1\"       ┆      │\n",
       "│         ┆                    ┆ 700d79b9c09dc1\"    ┆                   ┆                   ┆      │\n",
       "│ 1765186 ┆ 4.671              ┆ b\"0xa9ddc7176add5c ┆ b\"0xF7F72A1F5cdF5 ┆ b\"0xEA593b730d745 ┆ 0    │\n",
       "│         ┆                    ┆ 389f92a1ce2e351905 ┆ d2B6670aF5b60e0e0 ┆ FB5fE01B6d20e6603 ┆      │\n",
       "│         ┆                    ┆ b58072fde1c7af000b ┆ Ad22ef7Bce\"       ┆ 915252c6BF\"       ┆      │\n",
       "│         ┆                    ┆ f6332a4701b690\"    ┆                   ┆                   ┆      │\n",
       "│ 1766648 ┆ 21.369             ┆ b\"0xdb7f213db33315 ┆ b\"0x6CbBE2fcb7b20 ┆ b\"0xEA593b730d745 ┆ 0    │\n",
       "│         ┆                    ┆ 6678f7ee87d11ff0cc ┆ 54a754e212f98Bd11 ┆ FB5fE01B6d20e6603 ┆      │\n",
       "│         ┆                    ┆ b6b57210a204f2676a ┆ e64Ee5CE4c\"       ┆ 915252c6BF\"       ┆      │\n",
       "│         ┆                    ┆ c071fbf79107c6\"    ┆                   ┆                   ┆      │\n",
       "│ 1766081 ┆ 2.418              ┆ b\"0x792e01067e8e44 ┆ b\"0x625BCC1142E97 ┆ b\"0x1c8A29F7517c7 ┆ 0    │\n",
       "│         ┆                    ┆ d0f09e7edbfd4a4016 ┆ 796173104A6e817Ee ┆ ceA04B98b80723D87 ┆      │\n",
       "│         ┆                    ┆ 72b0a3439a55913096 ┆ 46C593b3C5\"       ┆ 1a99DD3a2c\"       ┆      │\n",
       "│         ┆                    ┆ c5216772a89d74\"    ┆                   ┆                   ┆      │\n",
       "│ 1765123 ┆ 23.425             ┆ b\"0x50bd3c863aeac0 ┆ b\"0x898e4430A57Ec ┆ b\"0xFE1355874C253 ┆ 0    │\n",
       "│         ┆                    ┆ eb4f7ed6d97e98338b ┆ 5b424dFfe06D8Aa04 ┆ 7480fCCc5AB62D36B ┆      │\n",
       "│         ┆                    ┆ 83fb9f3f18382005be ┆ 42519e1F59\"       ┆ 1bE5e7230b\"       ┆      │\n",
       "│         ┆                    ┆ a98ed863d00713\"    ┆                   ┆                   ┆      │\n",
       "│ …       ┆ …                  ┆ …                  ┆ …                 ┆ …                 ┆ …    │\n",
       "│ 1762930 ┆ 3109.732           ┆ b\"0xbc67c8529d41d1 ┆ b\"0xa66008075589d ┆ b\"0x79C9109b76460 ┆ 3    │\n",
       "│         ┆                    ┆ 088d6281a945638954 ┆ 4253c0fe26eD520e9 ┆ 9df928d16fC4a91e9 ┆      │\n",
       "│         ┆                    ┆ 632fdc241c252182e2 ┆ ff88605f88\"       ┆ 081F7e87DB\"       ┆      │\n",
       "│         ┆                    ┆ 8006fec9a20fe6\"    ┆                   ┆                   ┆      │\n",
       "│ 1763940 ┆ 15234.199          ┆ b\"0x06611832eedc50 ┆ b\"0xED3D68aCf5366 ┆ b\"0x79C9109b76460 ┆ 3    │\n",
       "│         ┆                    ┆ 9fa0a6ff555d37f4f1 ┆ 785859A96e66a2778 ┆ 9df928d16fC4a91e9 ┆      │\n",
       "│         ┆                    ┆ 0639419325b84e03c9 ┆ A02d14f08e\"       ┆ 081F7e87DB\"       ┆      │\n",
       "│         ┆                    ┆ f6d012d3369c0b\"    ┆                   ┆                   ┆      │\n",
       "│ 1761503 ┆ -0.49              ┆ b\"0xb4b9bd4195bd08 ┆ b\"0x8511a42aC3897 ┆ b\"0x79C9109b76460 ┆ 3    │\n",
       "│         ┆                    ┆ a6906caf86a17b5195 ┆ 5b7c24b1Fa70bB2f3 ┆ 9df928d16fC4a91e9 ┆      │\n",
       "│         ┆                    ┆ e38c5009ca65ea3be8 ┆ 44cd55DFB2\"       ┆ 081F7e87DB\"       ┆      │\n",
       "│         ┆                    ┆ 2a50917f571849\"    ┆                   ┆                   ┆      │\n",
       "│ 1763536 ┆ 20.476             ┆ b\"0x9b2e53fd7d7753 ┆ b\"0x48446b07A0430 ┆ b\"0xd8c5c541D56F5 ┆ 3    │\n",
       "│         ┆                    ┆ f474ce4734e95f44c5 ┆ 7F320fa34790116d7 ┆ 9d65CF775de928CCf ┆      │\n",
       "│         ┆                    ┆ a307e089001bbb4763 ┆ 3aD4A51810\"       ┆ 4a47d4985C\"       ┆      │\n",
       "│         ┆                    ┆ d51e4d6c42e947\"    ┆                   ┆                   ┆      │\n",
       "│ 1772716 ┆ 10.591000000000001 ┆ b\"0x54ca2b367d243b ┆ b\"0xD539B37De66BA ┆ b\"0x79C9109b76460 ┆ 3    │\n",
       "│         ┆                    ┆ 67d899ed383cd19c44 ┆ 80932127d5930F729 ┆ 9df928d16fC4a91e9 ┆      │\n",
       "│         ┆                    ┆ 49ad80fff5d0fd76d1 ┆ f611C49552\"       ┆ 081F7e87DB\"       ┆      │\n",
       "│         ┆                    ┆ d3ccc69bceecab\"    ┆                   ┆                   ┆      │\n",
       "└─────────┴────────────────────┴────────────────────┴───────────────────┴───────────────────┴──────┘"
      ]
     },
     "execution_count": 44,
     "metadata": {},
     "output_type": "execute_result"
    }
   ],
   "source": [
    "txs_cleaned_df.sort(by='type')"
   ]
  },
  {
   "cell_type": "code",
   "execution_count": 43,
   "metadata": {},
   "outputs": [
    {
     "data": {
      "text/html": [
       "<div><style>\n",
       ".dataframe > thead > tr,\n",
       ".dataframe > tbody > tr {\n",
       "  text-align: right;\n",
       "  white-space: pre-wrap;\n",
       "}\n",
       "</style>\n",
       "<small>shape: (0, 6)</small><table border=\"1\" class=\"dataframe\"><thead><tr><th>slot</th><th>seconds_in_mempool</th><th>hash</th><th>from</th><th>to</th><th>type</th></tr><tr><td>u32</td><td>f64</td><td>binary</td><td>binary</td><td>binary</td><td>u8</td></tr></thead><tbody></tbody></table></div>"
      ],
      "text/plain": [
       "shape: (0, 6)\n",
       "┌──────┬────────────────────┬────────┬────────┬────────┬──────┐\n",
       "│ slot ┆ seconds_in_mempool ┆ hash   ┆ from   ┆ to     ┆ type │\n",
       "│ ---  ┆ ---                ┆ ---    ┆ ---    ┆ ---    ┆ ---  │\n",
       "│ u32  ┆ f64                ┆ binary ┆ binary ┆ binary ┆ u8   │\n",
       "╞══════╪════════════════════╪════════╪════════╪════════╪══════╡\n",
       "└──────┴────────────────────┴────────┴────────┴────────┴──────┘"
      ]
     },
     "execution_count": 43,
     "metadata": {},
     "output_type": "execute_result"
    }
   ],
   "source": [
    "txs_cleaned_df.filter(\n",
    "    pl.col('from') == '0x5CC894D9CB74B57AdDF2CB267d1df05463Abb12a'.lower())"
   ]
  },
  {
   "cell_type": "code",
   "execution_count": 41,
   "metadata": {},
   "outputs": [
    {
     "data": {
      "text/html": [
       "<div><style>\n",
       ".dataframe > thead > tr,\n",
       ".dataframe > tbody > tr {\n",
       "  text-align: right;\n",
       "  white-space: pre-wrap;\n",
       "}\n",
       "</style>\n",
       "<small>shape: (8, 6)</small><table border=\"1\" class=\"dataframe\"><thead><tr><th>to</th><th>average_seconds_in_mempool</th><th>tx_count</th><th>type</th><th>min_seconds_in_mempool</th><th>max_seconds_in_mempool</th></tr><tr><td>binary</td><td>f64</td><td>u32</td><td>f64</td><td>f64</td><td>f64</td></tr></thead><tbody><tr><td>b&quot;0xd289D207C0AfD1588C402EC6EA4697e7Bd59ae28&quot;</td><td>30555.424</td><td>1</td><td>3</td><td>30555.424</td><td>30555.424</td></tr><tr><td>b&quot;0x1f71C24b9115D5bf1A923dED05336FB7b6A7Bc95&quot;</td><td>5146.07</td><td>7</td><td>3</td><td>8.989</td><td>25329.755</td></tr><tr><td>b&quot;0x84E9a8007DD9a95c76E0693622522D36e9911Abd&quot;</td><td>669.864</td><td>25</td><td>3</td><td>4.882</td><td>11707.019</td></tr><tr><td>b&quot;0xaDD87ed6c64e7847C0a96Db859c9F6372D7996Db&quot;</td><td>412.624</td><td>5</td><td>3</td><td>3.898</td><td>1452.061</td></tr><tr><td>b&quot;0xff00000000000000000000000000000082823100&quot;</td><td>26.977</td><td>3</td><td>3</td><td>3.447</td><td>38.84</td></tr><tr><td>b&quot;0xBAc1000000000000000000000000000000000000&quot;</td><td>12.396</td><td>122</td><td>3</td><td>0.243</td><td>176.316</td></tr><tr><td>b&quot;0xff00000000000000000000000000000000017920&quot;</td><td>11.796</td><td>513</td><td>3</td><td>-0.894</td><td>122.456</td></tr><tr><td>b&quot;0xFf00000000000000000000000000000017000920&quot;</td><td>9.972</td><td>12</td><td>3</td><td>-0.083</td><td>19.418</td></tr></tbody></table></div>"
      ],
      "text/plain": [
       "shape: (8, 6)\n",
       "┌────────────────────┬───────────────────┬──────────┬──────┬───────────────────┬───────────────────┐\n",
       "│ to                 ┆ average_seconds_i ┆ tx_count ┆ type ┆ min_seconds_in_me ┆ max_seconds_in_me │\n",
       "│ ---                ┆ n_mempool         ┆ ---      ┆ ---  ┆ mpool             ┆ mpool             │\n",
       "│ binary             ┆ ---               ┆ u32      ┆ f64  ┆ ---               ┆ ---               │\n",
       "│                    ┆ f64               ┆          ┆      ┆ f64               ┆ f64               │\n",
       "╞════════════════════╪═══════════════════╪══════════╪══════╪═══════════════════╪═══════════════════╡\n",
       "│ b\"0xd289D207C0AfD1 ┆ 30555.424         ┆ 1        ┆ 3    ┆ 30555.424         ┆ 30555.424         │\n",
       "│ 588C402EC6EA4697e7 ┆                   ┆          ┆      ┆                   ┆                   │\n",
       "│ Bd59ae28\"          ┆                   ┆          ┆      ┆                   ┆                   │\n",
       "│ b\"0x1f71C24b9115D5 ┆ 5146.07           ┆ 7        ┆ 3    ┆ 8.989             ┆ 25329.755         │\n",
       "│ bf1A923dED05336FB7 ┆                   ┆          ┆      ┆                   ┆                   │\n",
       "│ b6A7Bc95\"          ┆                   ┆          ┆      ┆                   ┆                   │\n",
       "│ b\"0x84E9a8007DD9a9 ┆ 669.864           ┆ 25       ┆ 3    ┆ 4.882             ┆ 11707.019         │\n",
       "│ 5c76E0693622522D36 ┆                   ┆          ┆      ┆                   ┆                   │\n",
       "│ e9911Abd\"          ┆                   ┆          ┆      ┆                   ┆                   │\n",
       "│ b\"0xaDD87ed6c64e78 ┆ 412.624           ┆ 5        ┆ 3    ┆ 3.898             ┆ 1452.061          │\n",
       "│ 47C0a96Db859c9F637 ┆                   ┆          ┆      ┆                   ┆                   │\n",
       "│ 2D7996Db\"          ┆                   ┆          ┆      ┆                   ┆                   │\n",
       "│ b\"0xff000000000000 ┆ 26.977            ┆ 3        ┆ 3    ┆ 3.447             ┆ 38.84             │\n",
       "│ 000000000000000000 ┆                   ┆          ┆      ┆                   ┆                   │\n",
       "│ 82823100\"          ┆                   ┆          ┆      ┆                   ┆                   │\n",
       "│ b\"0xBAc10000000000 ┆ 12.396            ┆ 122      ┆ 3    ┆ 0.243             ┆ 176.316           │\n",
       "│ 000000000000000000 ┆                   ┆          ┆      ┆                   ┆                   │\n",
       "│ 00000000\"          ┆                   ┆          ┆      ┆                   ┆                   │\n",
       "│ b\"0xff000000000000 ┆ 11.796            ┆ 513      ┆ 3    ┆ -0.894            ┆ 122.456           │\n",
       "│ 000000000000000000 ┆                   ┆          ┆      ┆                   ┆                   │\n",
       "│ 00017920\"          ┆                   ┆          ┆      ┆                   ┆                   │\n",
       "│ b\"0xFf000000000000 ┆ 9.972             ┆ 12       ┆ 3    ┆ -0.083            ┆ 19.418            │\n",
       "│ 000000000000000000 ┆                   ┆          ┆      ┆                   ┆                   │\n",
       "│ 17000920\"          ┆                   ┆          ┆      ┆                   ┆                   │\n",
       "└────────────────────┴───────────────────┴──────────┴──────┴───────────────────┴───────────────────┘"
      ]
     },
     "execution_count": 41,
     "metadata": {},
     "output_type": "execute_result"
    }
   ],
   "source": [
    "# the to transactions are the addresses/mostly contracts that are interacted with the most on holesky.\n",
    "txs_cleaned_df.group_by('to').agg(\n",
    "    pl.col('seconds_in_mempool').mean().round(\n",
    "        3).alias('average_seconds_in_mempool'),\n",
    "    pl.len().alias('tx_count'),\n",
    "    pl.col('type').mean().round(0).alias('type'),\n",
    "    pl.col('seconds_in_mempool').min().round(\n",
    "        3).alias('min_seconds_in_mempool'),\n",
    "    pl.col('seconds_in_mempool').max().round(\n",
    "        3).alias('max_seconds_in_mempool'),\n",
    ").sort(by='average_seconds_in_mempool', descending=True).filter(pl.col('type') == 3)"
   ]
  },
  {
   "cell_type": "markdown",
   "metadata": {},
   "source": [
    "Analysis Conclusion:\n",
    "\n",
    "There is not a lot of activity that could be good preconfirmations on Holesky such as defi swaps and blobs. Need to find a mempool data method to get more up to date holesky mempool data to get a better idea of current contract activity as the date lags behind by about a month (June 1st is latest data but today is June 23rd)"
   ]
  },
  {
   "cell_type": "code",
   "execution_count": null,
   "metadata": {},
   "outputs": [],
   "source": []
  },
  {
   "cell_type": "code",
   "execution_count": null,
   "metadata": {},
   "outputs": [],
   "source": []
  },
  {
   "cell_type": "code",
   "execution_count": null,
   "metadata": {},
   "outputs": [],
   "source": []
  }
 ],
 "metadata": {
  "kernelspec": {
   "display_name": ".venv",
   "language": "python",
   "name": "python3"
  },
  "language_info": {
   "codemirror_mode": {
    "name": "ipython",
    "version": 3
   },
   "file_extension": ".py",
   "mimetype": "text/x-python",
   "name": "python",
   "nbconvert_exporter": "python",
   "pygments_lexer": "ipython3",
   "version": "3.12.2"
  }
 },
 "nbformat": 4,
 "nbformat_minor": 2
}
